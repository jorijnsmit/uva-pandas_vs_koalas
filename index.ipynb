{
 "cells": [
  {
   "cell_type": "code",
   "execution_count": 23,
   "metadata": {},
   "outputs": [],
   "source": [
    "import os\n",
    "from datetime import datetime\n",
    "\n",
    "import pandas as pd\n",
    "import databricks.koalas as ks"
   ]
  },
  {
   "cell_type": "code",
   "execution_count": null,
   "metadata": {},
   "outputs": [],
   "source": [
    "# get data first\n",
    "BUCKET_ID = 'bitcoin_bucket_20200308'\n",
    "BUCKET_URL = f'gs://{BUCKET_ID}'\n",
    "os.system(f'gsutil -m cp -r {BUCKET_URL} .')\n",
    "\n",
    "#!gsutil -m cp -r gs://bitcoin_bucket_20200308 ."
   ]
  },
  {
   "cell_type": "code",
   "execution_count": 2,
   "metadata": {},
   "outputs": [],
   "source": [
    "def build_frame_pandas(base_path):\n",
    "    df = pd.DataFrame([])\n",
    "    for filename in os.listdir(base_path):\n",
    "        full_path = f'{base_path}/{filename}'\n",
    "        name = filename.split('-')[0]\n",
    "        new = pd.read_csv(full_path)\n",
    "        new['open_time'] = pd.to_datetime(\n",
    "            new['open_time'],\n",
    "            unit='ms'\n",
    "        )\n",
    "        new = new.set_index('open_time', drop=True)\n",
    "        new[name] = (new['open'] + new['close']) / 2\n",
    "        df = df.join(new[name], how='outer')\n",
    "    return df"
   ]
  },
  {
   "cell_type": "code",
   "execution_count": 3,
   "metadata": {},
   "outputs": [],
   "source": [
    "def build_frame_koalas(base_path):\n",
    "    first_run = True\n",
    "    for filename in os.listdir(base_path):\n",
    "        full_path = f'{base_path}/{filename}'\n",
    "        name = filename.split('-')[0]\n",
    "        new = ks.read_csv(full_path)\n",
    "        new['open_time'] = ks.to_datetime(\n",
    "            new['open_time'],\n",
    "            unit='ms'\n",
    "        )\n",
    "        new = new.set_index('open_time', drop=True)\n",
    "        new[name] = (new['open'] + new['close']) / 2\n",
    "        if first_run:\n",
    "            df = ks.DataFrame(new[name])\n",
    "            first_run = False\n",
    "        else:\n",
    "            df = df.join(new[name], how='outer')\n",
    "    return df"
   ]
  },
  {
   "cell_type": "code",
   "execution_count": null,
   "metadata": {},
   "outputs": [],
   "source": [
    "start = datetime.now()\n",
    "df = build_frame_koalas()\n",
    "\n",
    "print(datetime.now() - start)\n",
    "print(df.info())\n",
    "print(df.resample('1min').asfreq().ffill().info())"
   ]
  }
 ],
 "metadata": {
  "kernelspec": {
   "display_name": "Python 3",
   "language": "python",
   "name": "python3"
  },
  "language_info": {
   "codemirror_mode": {
    "name": "ipython",
    "version": 3
   },
   "file_extension": ".py",
   "mimetype": "text/x-python",
   "name": "python",
   "nbconvert_exporter": "python",
   "pygments_lexer": "ipython3",
   "version": "3.7.6"
  }
 },
 "nbformat": 4,
 "nbformat_minor": 4
}
